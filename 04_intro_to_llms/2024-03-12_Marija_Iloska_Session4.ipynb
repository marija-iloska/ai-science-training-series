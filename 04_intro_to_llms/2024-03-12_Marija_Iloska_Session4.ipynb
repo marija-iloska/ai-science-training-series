{
 "cells": [
  {
   "cell_type": "markdown",
   "metadata": {},
   "source": [
    "### Let's write an elementary tokenizer that uses words as tokens.\n",
    "\n",
    "We will use Mark Twain's _Life On The Mississippi_ as a test bed. The text is in the accompanying file 'Life_On_The_Mississippi.txt'\n",
    "\n",
    "Here's a not-terribly-good such tokenizer:"
   ]
  },
  {
   "cell_type": "code",
   "execution_count": 1,
   "metadata": {},
   "outputs": [
    {
     "name": "stdout",
     "output_type": "stream",
     "text": [
      "('\\ufeffThe', 1)\n",
      "('Project', 79)\n",
      "('Gutenberg', 22)\n",
      "('eBook', 4)\n",
      "('of', 4469)\n",
      "('Life', 5)\n",
      "('on', 856)\n",
      "('the', 8443)\n",
      "('Mississippi', 104)\n",
      "('This', 127)\n",
      "('ebook', 2)\n",
      "('is', 1076)\n",
      "('for', 1017)\n",
      "('use', 34)\n",
      "('anyone', 4)\n",
      "('anywhere', 8)\n",
      "('in', 2381)\n",
      "('United', 36)\n",
      "('States', 26)\n",
      "('and', 5692)\n",
      "('most', 119)\n",
      "('other', 223)\n",
      "('parts', 5)\n",
      "('world', 40)\n",
      "('at', 676)\n",
      "('no', 325)\n",
      "('cost', 18)\n",
      "('with', 1053)\n",
      "('almost', 37)\n",
      "('restrictions', 2)\n",
      "('whatsoever.', 2)\n",
      "('You', 92)\n",
      "('may', 85)\n",
      "('copy', 12)\n",
      "('it,', 199)\n",
      "('give', 67)\n",
      "('it', 1382)\n",
      "('away', 107)\n",
      "('or', 561)\n",
      "('re-use', 2)\n",
      "('under', 112)\n",
      "('terms', 22)\n",
      "('License', 8)\n",
      "('included', 2)\n",
      "('this', 591)\n",
      "('online', 4)\n",
      "('www.gutenberg.org.', 4)\n",
      "('If', 85)\n",
      "('you', 813)\n",
      "('are', 361)\n",
      "('not', 680)\n",
      "('located', 9)\n",
      "('States,', 8)\n",
      "('will', 287)\n",
      "('have', 557)\n",
      "('to', 3518)\n",
      "('check', 4)\n",
      "('laws', 13)\n",
      "('country', 50)\n",
      "('where', 152)\n",
      "('before', 150)\n",
      "('using', 10)\n",
      "('eBook.', 2)\n",
      "('Title:', 1)\n",
      "('Author:', 1)\n",
      "('Mark', 2)\n",
      "('Twain', 2)\n",
      "('Release', 1)\n",
      "('date:', 1)\n",
      "('July', 7)\n",
      "('10,', 2)\n",
      "('2004', 1)\n",
      "('[eBook', 1)\n",
      "('#245]', 1)\n",
      "('Most', 4)\n",
      "('recently', 3)\n",
      "('updated:', 1)\n",
      "('January', 2)\n",
      "('1,', 2)\n",
      "('2021', 1)\n",
      "('Language:', 1)\n",
      "('English', 7)\n",
      "('Credits:', 1)\n",
      "('Produced', 2)\n",
      "('by', 623)\n",
      "('David', 2)\n",
      "('Widger.', 2)\n",
      "('Earliest', 2)\n",
      "('PG', 3)\n",
      "('text', 4)\n",
      "('edition', 3)\n",
      "('produced', 15)\n",
      "('Graham', 2)\n",
      "('Allan', 2)\n",
      "('***', 4)\n",
      "('START', 1)\n",
      "('OF', 16)\n",
      "('THE', 29)\n",
      "('PROJECT', 4)\n",
      "('GUTENBERG', 3)\n"
     ]
    }
   ],
   "source": [
    "wdict = {}\n",
    "with open('Life_On_The_Mississippi.txt', 'r') as L:\n",
    "    line = L.readline()\n",
    "    nlines = 1\n",
    "    while line:\n",
    "\n",
    "        words = line.split()\n",
    "        for word in words:\n",
    "            if wdict.get(word) is not None:\n",
    "                wdict[word] += 1\n",
    "            else:\n",
    "                wdict[word] = 1\n",
    "        line = L.readline()\n",
    "        nlines += 1\n",
    "\n",
    "nitem = 0 ; maxitems = 100\n",
    "for item in wdict.items():\n",
    "    nitem += 1\n",
    "    print(item)\n",
    "    if nitem == maxitems: break\n"
   ]
  },
  {
   "cell_type": "markdown",
   "metadata": {},
   "source": [
    "This is unsatisfactory for a few reasons:\n",
    "\n",
    "* There are non-ASCII (Unicode) characters that should be stripped (the so-called \"Byte-Order Mark\" or BOM \\ufeff at the beginning of the text);\n",
    "\n",
    "* There are punctuation marks, which we don't want to concern ourselves with;\n",
    "\n",
    "* The same word can appear capitalized, or lower-case, or with its initial letter upper-cased, whereas we want them all to be normalized to lower-case.\n",
    "\n",
    "Part 1 of this assignment: insert code in this loop to operate on the str variable 'line' so as to fix these problems before 'line' is split into words.\n",
    "\n",
    "A hint to one possible way to do this: use the 'punctuation' character definition in the Python 'string' module, the 'maketrans' and 'translate' methods of Python's str class, to eliminate punctuation, and the regular expression ('re') Python module to eliminate any Unicode---it is useful to know that the regular expression r'[^\\x00-x7f]' means \"any character not in the vanilla ASCII set.\n",
    "\n",
    "Part 2: Add code to sort the contents of wdict by word occurrence frequency.  What are the top 100 most frequent word tokens?  Adding up occurrence frequencies starting from the most frequent words, how many distinct words make up the top 90% of word occurrences in this \"corpus\"?\n",
    "\n",
    "For this part, the docs of Python's 'sorted' and of the helper 'itemgetter' from 'operator' reward study.\n",
    "\n",
    "Write your modified code in the cell below."
   ]
  },
  {
   "cell_type": "markdown",
   "metadata": {},
   "source": [
    "### Play Code"
   ]
  },
  {
   "cell_type": "code",
   "execution_count": 2,
   "metadata": {},
   "outputs": [],
   "source": [
    "# Import string library\n",
    "import string"
   ]
  },
  {
   "cell_type": "code",
   "execution_count": 3,
   "metadata": {},
   "outputs": [
    {
     "name": "stdout",
     "output_type": "stream",
     "text": [
      "!\"#$%&'()*+,-./:;<=>?@[\\]^_`{|}~\n"
     ]
    }
   ],
   "source": [
    "# Visualize\n",
    "print(string.punctuation)"
   ]
  },
  {
   "cell_type": "code",
   "execution_count": 4,
   "metadata": {},
   "outputs": [
    {
     "name": "stdout",
     "output_type": "stream",
     "text": [
      "abaa\n"
     ]
    }
   ],
   "source": [
    "# Testing maketrans for replacing upper case letters with lower case\n",
    "x = 'A'\n",
    "y = 'a'\n",
    "txt = 'AbaA'\n",
    "\n",
    "new = str.maketrans(x, y)\n",
    "print(txt.translate(new))"
   ]
  },
  {
   "cell_type": "markdown",
   "metadata": {},
   "source": [
    "### Part I"
   ]
  },
  {
   "cell_type": "code",
   "execution_count": 5,
   "metadata": {},
   "outputs": [],
   "source": [
    "# Get a string of lower and upper case letters (to replce)\n",
    "lower = string.ascii_lowercase \n",
    "upper = string.ascii_uppercase\n",
    "\n",
    "# Design translation\n",
    "upper_to_lower = str.maketrans(upper, lower)"
   ]
  },
  {
   "cell_type": "code",
   "execution_count": 6,
   "metadata": {},
   "outputs": [],
   "source": [
    "wdict = {}\n",
    "with open('Life_On_The_Mississippi.txt', 'r') as L:\n",
    "    line = L.readline()        \n",
    "    nlines = 1\n",
    "    while line:\n",
    "    \n",
    "        # Remove non-ASCII characters from each line\n",
    "        for char in line:\n",
    "            if char in string.punctuation:\n",
    "                line = line.replace(char, '')\n",
    "            line = line.translate(upper_to_lower)\n",
    "            \n",
    "        words = line.split()\n",
    "        for word in words:\n",
    "            if wdict.get(word) is not None:\n",
    "                wdict[word] += 1\n",
    "            else:\n",
    "                wdict[word] = 1\n",
    "        line = L.readline()\n",
    "        nlines += 1"
   ]
  },
  {
   "cell_type": "code",
   "execution_count": 22,
   "metadata": {},
   "outputs": [
    {
     "name": "stdout",
     "output_type": "stream",
     "text": [
      "('\\ufeffthe', 1)\n",
      "('project', 85)\n",
      "('gutenberg', 26)\n",
      "('ebook', 13)\n",
      "('of', 4532)\n",
      "('life', 89)\n",
      "('on', 947)\n",
      "('the', 9252)\n",
      "('mississippi', 159)\n",
      "('this', 778)\n"
     ]
    }
   ],
   "source": [
    "# Print Results\n",
    "nitem = 0 ; maxitems = 10\n",
    "for item in wdict.items():\n",
    "    nitem += 1\n",
    "    print(item)\n",
    "    if nitem == maxitems: break"
   ]
  },
  {
   "cell_type": "markdown",
   "metadata": {},
   "source": [
    "### Part II"
   ]
  },
  {
   "cell_type": "code",
   "execution_count": 45,
   "metadata": {},
   "outputs": [],
   "source": [
    "most_frequent = {key: val for key,val in sorted(wdict.items(), key=lambda item: item[1], reverse=True)}"
   ]
  },
  {
   "cell_type": "code",
   "execution_count": 53,
   "metadata": {},
   "outputs": [
    {
     "name": "stdout",
     "output_type": "stream",
     "text": [
      "14582\n"
     ]
    },
    {
     "data": {
      "text/plain": [
       "[('the', 9252),\n",
       " ('and', 5890),\n",
       " ('of', 4532),\n",
       " ('a', 4052),\n",
       " ('to', 3592),\n",
       " ('in', 2591),\n",
       " ('it', 2287),\n",
       " ('i', 2200),\n",
       " ('was', 2093),\n",
       " ('that', 1720),\n",
       " ('he', 1401),\n",
       " ('is', 1147),\n",
       " ('for', 1095),\n",
       " ('with', 1081),\n",
       " ('you', 1032),\n",
       " ('his', 961),\n",
       " ('had', 961),\n",
       " ('but', 952),\n",
       " ('on', 947),\n",
       " ('as', 881),\n",
       " ('this', 778),\n",
       " ('they', 758),\n",
       " ('at', 750),\n",
       " ('not', 721),\n",
       " ('all', 720),\n",
       " ('by', 713),\n",
       " ('one', 686),\n",
       " ('there', 627),\n",
       " ('were', 625),\n",
       " ('be', 616),\n",
       " ('my', 582),\n",
       " ('or', 581),\n",
       " ('from', 577),\n",
       " ('have', 571),\n",
       " ('out', 541),\n",
       " ('so', 535),\n",
       " ('up', 529),\n",
       " ('him', 523),\n",
       " ('we', 519),\n",
       " ('me', 515),\n",
       " ('when', 505),\n",
       " ('would', 478),\n",
       " ('which', 476),\n",
       " ('river', 457),\n",
       " ('an', 439),\n",
       " ('them', 424),\n",
       " ('no', 422),\n",
       " ('then', 404),\n",
       " ('said', 399),\n",
       " ('are', 387),\n",
       " ('if', 381),\n",
       " ('their', 378),\n",
       " ('now', 368),\n",
       " ('about', 346),\n",
       " ('time', 337),\n",
       " ('been', 335),\n",
       " ('down', 327),\n",
       " ('its', 322),\n",
       " ('could', 313),\n",
       " ('has', 304),\n",
       " ('will', 301),\n",
       " ('into', 300),\n",
       " ('what', 284),\n",
       " ('her', 278),\n",
       " ('two', 273),\n",
       " ('other', 270),\n",
       " ('do', 270),\n",
       " ('some', 269),\n",
       " ('new', 259),\n",
       " ('man', 259),\n",
       " ('any', 238),\n",
       " ('got', 233),\n",
       " ('these', 233),\n",
       " ('she', 233),\n",
       " ('who', 229),\n",
       " ('more', 226),\n",
       " ('water', 222),\n",
       " ('did', 214),\n",
       " ('before', 208),\n",
       " ('over', 202),\n",
       " ('way', 202),\n",
       " ('hundred', 200),\n",
       " ('upon', 200),\n",
       " ('after', 195),\n",
       " ('here', 195),\n",
       " ('day', 193),\n",
       " ('than', 192),\n",
       " ('through', 191),\n",
       " ('get', 190),\n",
       " ('well', 189),\n",
       " ('old', 186),\n",
       " ('every', 186),\n",
       " ('can', 185),\n",
       " ('boat', 184),\n",
       " ('went', 183),\n",
       " ('never', 182),\n",
       " ('good', 181),\n",
       " ('years', 180),\n",
       " ('see', 175),\n",
       " ('know', 174)]"
      ]
     },
     "execution_count": 53,
     "metadata": {},
     "output_type": "execute_result"
    }
   ],
   "source": [
    "# The number of words used\n",
    "print(len(most_frequent))\n",
    "\n",
    "# The top 100 most used words\n",
    "list(most_frequent.items())[:100]"
   ]
  },
  {
   "cell_type": "code",
   "execution_count": 42,
   "metadata": {},
   "outputs": [],
   "source": [
    "from operator import itemgetter"
   ]
  },
  {
   "cell_type": "code",
   "execution_count": 57,
   "metadata": {},
   "outputs": [
    {
     "name": "stdout",
     "output_type": "stream",
     "text": [
      "operator.itemgetter(('the', 9252))\n"
     ]
    }
   ],
   "source": [
    "for i in most_frequent.items():\n",
    "    test = itemgetter(i)\n",
    "    print(test)\n",
    "    break"
   ]
  },
  {
   "cell_type": "code",
   "execution_count": null,
   "metadata": {},
   "outputs": [],
   "source": []
  }
 ],
 "metadata": {
  "kernelspec": {
   "display_name": "Python 3 (ipykernel)",
   "language": "python",
   "name": "python3"
  },
  "language_info": {
   "codemirror_mode": {
    "name": "ipython",
    "version": 3
   },
   "file_extension": ".py",
   "mimetype": "text/x-python",
   "name": "python",
   "nbconvert_exporter": "python",
   "pygments_lexer": "ipython3",
   "version": "3.9.15"
  }
 },
 "nbformat": 4,
 "nbformat_minor": 4
}
